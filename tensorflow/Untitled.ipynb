{
 "cells": [
  {
   "cell_type": "code",
   "execution_count": 13,
   "metadata": {},
   "outputs": [],
   "source": [
    "import tensorflow as tf\n",
    "import os "
   ]
  },
  {
   "cell_type": "code",
   "execution_count": 14,
   "metadata": {},
   "outputs": [],
   "source": [
    "x_var = tf.Variable(0.,name=\"x_result\")"
   ]
  },
  {
   "cell_type": "code",
   "execution_count": 15,
   "metadata": {},
   "outputs": [],
   "source": [
    "step_var = tf.Variable(0.,trainable=False)"
   ]
  },
  {
   "cell_type": "code",
   "execution_count": 16,
   "metadata": {},
   "outputs": [],
   "source": [
    "loss = x_var * x_var - 4.0 * x_var + 5.0 "
   ]
  },
  {
   "cell_type": "code",
   "execution_count": 17,
   "metadata": {},
   "outputs": [],
   "source": [
    "learn_rate = 0.1 \n",
    "num_epochs = 40 \n",
    "optimizer = tf.train.GradientDescentOptimizer(learn_rate).minimize(loss,global_step=step_var)"
   ]
  },
  {
   "cell_type": "code",
   "execution_count": 18,
   "metadata": {},
   "outputs": [],
   "source": [
    "init = tf.global_variables_initializer()"
   ]
  },
  {
   "cell_type": "code",
   "execution_count": 19,
   "metadata": {},
   "outputs": [],
   "source": [
    "saver = tf.train.Saver() "
   ]
  },
  {
   "cell_type": "code",
   "execution_count": 20,
   "metadata": {},
   "outputs": [],
   "source": [
    "summary_op = tf.summary.scalar(\"x\",x_var)"
   ]
  },
  {
   "cell_type": "code",
   "execution_count": 21,
   "metadata": {},
   "outputs": [],
   "source": [
    "file_writer = tf.summary.FileWriter(\"log\",graph=tf.get_default_graph())"
   ]
  },
  {
   "cell_type": "code",
   "execution_count": 22,
   "metadata": {},
   "outputs": [
    {
     "name": "stdout",
     "output_type": "stream",
     "text": [
      "Step 1: Computed Result = 0.400000\n",
      "Step 2: Computed Result = 0.720000\n",
      "Step 3: Computed Result = 0.976000\n",
      "Step 4: Computed Result = 1.180800\n",
      "Step 5: Computed Result = 1.344640\n",
      "Step 6: Computed Result = 1.475712\n",
      "Step 7: Computed Result = 1.580570\n",
      "Step 8: Computed Result = 1.664456\n",
      "Step 9: Computed Result = 1.731565\n",
      "Step 10: Computed Result = 1.785252\n",
      "Step 11: Computed Result = 1.828201\n",
      "Step 12: Computed Result = 1.862561\n",
      "Step 13: Computed Result = 1.890049\n",
      "Step 14: Computed Result = 1.912039\n",
      "Step 15: Computed Result = 1.929631\n",
      "Step 16: Computed Result = 1.943705\n",
      "Step 17: Computed Result = 1.954964\n",
      "Step 18: Computed Result = 1.963971\n",
      "Step 19: Computed Result = 1.971177\n",
      "Step 20: Computed Result = 1.976941\n",
      "Step 21: Computed Result = 1.981553\n",
      "Step 22: Computed Result = 1.985243\n",
      "Step 23: Computed Result = 1.988194\n",
      "Step 24: Computed Result = 1.990555\n",
      "Step 25: Computed Result = 1.992444\n",
      "Step 26: Computed Result = 1.993955\n",
      "Step 27: Computed Result = 1.995164\n",
      "Step 28: Computed Result = 1.996131\n",
      "Step 29: Computed Result = 1.996905\n",
      "Step 30: Computed Result = 1.997524\n",
      "Step 31: Computed Result = 1.998019\n",
      "Step 32: Computed Result = 1.998415\n",
      "Step 33: Computed Result = 1.998732\n",
      "Step 34: Computed Result = 1.998986\n",
      "Step 35: Computed Result = 1.999189\n",
      "Step 36: Computed Result = 1.999351\n",
      "Step 37: Computed Result = 1.999481\n",
      "Step 38: Computed Result = 1.999585\n",
      "Step 39: Computed Result = 1.999668\n",
      "Step 40: Computed Result = 1.999734\n",
      "Final x_var:\t1.999734\n"
     ]
    }
   ],
   "source": [
    "with tf.Session() as sess:\n",
    "    sess.run(init)\n",
    "    for epoch in range(num_epochs):\n",
    "        \n",
    "        _,step,result,summary = sess.run([optimizer,step_var,x_var,summary_op])\n",
    "        print(\"Step %d: Computed Result = %f\" % (step,result))\n",
    "        \n",
    "        file_writer.add_summary(summary=summary,global_step=step)\n",
    "        file_writer.flush()\n",
    "        \n",
    "    saver.save(sess,os.getcwd()+\"/output\")\n",
    "    print(\"Final x_var:\\t%f\"%sess.run(x_var))"
   ]
  },
  {
   "cell_type": "markdown",
   "metadata": {},
   "source": [
    "### Loading Variables From File"
   ]
  },
  {
   "cell_type": "code",
   "execution_count": 27,
   "metadata": {},
   "outputs": [
    {
     "name": "stdout",
     "output_type": "stream",
     "text": [
      "Variable Value:\t 0.0\n"
     ]
    }
   ],
   "source": [
    "with tf.Session() as sess:\n",
    "    saver = tf.train.import_meta_graph(\"output.meta\")\n",
    "    saver.restore(sess,os.getcwd()+\"/output\")\n",
    "    print(\"Variable Value:\\t\",sess.run(\"x_result:0\"))"
   ]
  },
  {
   "cell_type": "code",
   "execution_count": null,
   "metadata": {},
   "outputs": [],
   "source": []
  }
 ],
 "metadata": {
  "kernelspec": {
   "display_name": "Python 3",
   "language": "python",
   "name": "python3"
  },
  "language_info": {
   "codemirror_mode": {
    "name": "ipython",
    "version": 3
   },
   "file_extension": ".py",
   "mimetype": "text/x-python",
   "name": "python",
   "nbconvert_exporter": "python",
   "pygments_lexer": "ipython3",
   "version": "3.7.3"
  }
 },
 "nbformat": 4,
 "nbformat_minor": 2
}
