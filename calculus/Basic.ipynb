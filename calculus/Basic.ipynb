{
 "cells": [
  {
   "cell_type": "code",
   "execution_count": 18,
   "metadata": {},
   "outputs": [],
   "source": [
    "from random import randint\n",
    "from sympy import *"
   ]
  },
  {
   "cell_type": "code",
   "execution_count": 42,
   "metadata": {},
   "outputs": [],
   "source": [
    "z = list(zip(list(symbols(\"x_:11\")),\n",
    "            list([randint(0,1001) for i in range(11)])))"
   ]
  },
  {
   "cell_type": "code",
   "execution_count": 43,
   "metadata": {},
   "outputs": [
    {
     "name": "stdout",
     "output_type": "stream",
     "text": [
      "[(x₀, 525), (x₁, 971), (x₂, 320), (x₃, 469), (x₄, 658), (x₅, 219), (x₆, 42), (\n",
      "x₇, 622), (x₈, 563), (x₉, 91), (x₁₀, 701)]\n"
     ]
    }
   ],
   "source": [
    "pprint(z)"
   ]
  },
  {
   "cell_type": "code",
   "execution_count": 21,
   "metadata": {},
   "outputs": [],
   "source": [
    "x=Symbol(\"x\")\n",
    "fd = x**2 "
   ]
  },
  {
   "cell_type": "code",
   "execution_count": 22,
   "metadata": {},
   "outputs": [
    {
     "name": "stdout",
     "output_type": "stream",
     "text": [
      "d ⎛ 2⎞\n",
      "──⎝x ⎠\n",
      "dx    \n"
     ]
    }
   ],
   "source": [
    "pprint(Derivative(fd,x))"
   ]
  },
  {
   "cell_type": "code",
   "execution_count": 23,
   "metadata": {},
   "outputs": [
    {
     "name": "stdout",
     "output_type": "stream",
     "text": [
      "2⋅x\n"
     ]
    }
   ],
   "source": [
    "pprint(Derivative(fd,x).doit())"
   ]
  },
  {
   "cell_type": "code",
   "execution_count": 60,
   "metadata": {},
   "outputs": [
    {
     "name": "stdout",
     "output_type": "stream",
     "text": [
      "x_0 \t 1050\n",
      "x_1 \t 1942\n",
      "x_2 \t 640\n",
      "x_3 \t 938\n",
      "x_4 \t 1316\n",
      "x_5 \t 438\n",
      "x_6 \t 84\n",
      "x_7 \t 1244\n",
      "x_8 \t 1126\n",
      "x_9 \t 182\n",
      "x_10 \t 1402\n"
     ]
    },
    {
     "data": {
      "text/plain": [
       "[None, None, None, None, None, None, None, None, None, None, None]"
      ]
     },
     "execution_count": 60,
     "metadata": {},
     "output_type": "execute_result"
    }
   ],
   "source": [
    "[print(i,\"\\t\",\"\\t\",Derivative(fd,x).doit().subs(dict(x=j))) for (i,j) in z]"
   ]
  },
  {
   "cell_type": "code",
   "execution_count": 52,
   "metadata": {},
   "outputs": [
    {
     "name": "stdout",
     "output_type": "stream",
     "text": [
      "⌠      \n",
      "⎮  2   \n",
      "⎮ x  dx\n",
      "⌡      \n"
     ]
    }
   ],
   "source": [
    "pprint(Integral(fd,x))"
   ]
  },
  {
   "cell_type": "code",
   "execution_count": 25,
   "metadata": {},
   "outputs": [
    {
     "name": "stdout",
     "output_type": "stream",
     "text": [
      " 3\n",
      "x \n",
      "──\n",
      "3 \n"
     ]
    }
   ],
   "source": [
    "pprint(Integral(fd,x).doit())"
   ]
  },
  {
   "cell_type": "code",
   "execution_count": 26,
   "metadata": {},
   "outputs": [
    {
     "name": "stdout",
     "output_type": "stream",
     "text": [
      "2           \n",
      "⌠ ⌠         \n",
      "⎮ ⎮  2      \n",
      "⎮ ⎮ x  dx dx\n",
      "⌡ ⌡         \n",
      "0           \n"
     ]
    }
   ],
   "source": [
    "pprint(Integral(fd,x,(x,0,2)))"
   ]
  },
  {
   "cell_type": "code",
   "execution_count": 27,
   "metadata": {},
   "outputs": [
    {
     "name": "stdout",
     "output_type": "stream",
     "text": [
      "4/3\n"
     ]
    }
   ],
   "source": [
    "pprint(Integral(fd,x,(x,0,2)).doit())"
   ]
  },
  {
   "cell_type": "code",
   "execution_count": 28,
   "metadata": {},
   "outputs": [
    {
     "name": "stdout",
     "output_type": "stream",
     "text": [
      "       2\n",
      " lim  x \n",
      "x─→11⁺  \n"
     ]
    }
   ],
   "source": [
    "pprint(Limit(fd,x,11))"
   ]
  },
  {
   "cell_type": "code",
   "execution_count": 29,
   "metadata": {},
   "outputs": [
    {
     "name": "stdout",
     "output_type": "stream",
     "text": [
      "121\n"
     ]
    }
   ],
   "source": [
    "pprint(Limit(fd,x,11).doit())"
   ]
  },
  {
   "cell_type": "code",
   "execution_count": 30,
   "metadata": {},
   "outputs": [
    {
     "name": "stdout",
     "output_type": "stream",
     "text": [
      "     2\n",
      "lim x \n",
      "x─→∞  \n"
     ]
    }
   ],
   "source": [
    "pprint(Limit(fd,x,S.Infinity,dir=\"-\"))"
   ]
  },
  {
   "cell_type": "code",
   "execution_count": 31,
   "metadata": {},
   "outputs": [
    {
     "name": "stdout",
     "output_type": "stream",
     "text": [
      "∞\n"
     ]
    }
   ],
   "source": [
    "pprint(Limit(fd,x,S.Infinity,dir=\"-\").doit())"
   ]
  },
  {
   "cell_type": "code",
   "execution_count": null,
   "metadata": {},
   "outputs": [],
   "source": []
  }
 ],
 "metadata": {
  "kernelspec": {
   "display_name": "Python 3",
   "language": "python",
   "name": "python3"
  },
  "language_info": {
   "codemirror_mode": {
    "name": "ipython",
    "version": 3
   },
   "file_extension": ".py",
   "mimetype": "text/x-python",
   "name": "python",
   "nbconvert_exporter": "python",
   "pygments_lexer": "ipython3",
   "version": "3.6.4"
  }
 },
 "nbformat": 4,
 "nbformat_minor": 1
}
