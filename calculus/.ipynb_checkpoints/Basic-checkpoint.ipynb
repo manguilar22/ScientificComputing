{
 "cells": [
  {
   "cell_type": "code",
   "execution_count": 98,
   "metadata": {},
   "outputs": [],
   "source": [
    "from random import randint\n",
    "from sympy import *"
   ]
  },
  {
   "cell_type": "code",
   "execution_count": 99,
   "metadata": {},
   "outputs": [],
   "source": [
    "a = list(symbols(\"x_:11\"))\n",
    "b = list([randint(0,1001) for i in range(len(a))])\n",
    "z = list(zip(a,b))"
   ]
  },
  {
   "cell_type": "code",
   "execution_count": 100,
   "metadata": {},
   "outputs": [
    {
     "name": "stdout",
     "output_type": "stream",
     "text": [
      "[(x₀, 891), (x₁, 538), (x₂, 479), (x₃, 907), (x₄, 689), (x₅, 787), (x₆, 974), \n",
      "(x₇, 47), (x₈, 425), (x₉, 103), (x₁₀, 196)]\n"
     ]
    }
   ],
   "source": [
    "pprint(z)"
   ]
  },
  {
   "cell_type": "code",
   "execution_count": 101,
   "metadata": {},
   "outputs": [],
   "source": [
    "x=Symbol(\"x\")\n",
    "fd = x**2 "
   ]
  },
  {
   "cell_type": "code",
   "execution_count": 102,
   "metadata": {},
   "outputs": [
    {
     "name": "stdout",
     "output_type": "stream",
     "text": [
      "d ⎛ 2⎞\n",
      "──⎝x ⎠\n",
      "dx    \n"
     ]
    }
   ],
   "source": [
    "pprint(Derivative(fd,x))"
   ]
  },
  {
   "cell_type": "code",
   "execution_count": 103,
   "metadata": {},
   "outputs": [
    {
     "name": "stdout",
     "output_type": "stream",
     "text": [
      "2⋅x\n"
     ]
    }
   ],
   "source": [
    "pprint(Derivative(fd,x).doit())"
   ]
  },
  {
   "cell_type": "code",
   "execution_count": 104,
   "metadata": {},
   "outputs": [
    {
     "name": "stdout",
     "output_type": "stream",
     "text": [
      "⌠      \n",
      "⎮  2   \n",
      "⎮ x  dx\n",
      "⌡      \n"
     ]
    }
   ],
   "source": [
    "pprint(Integral(fd,x))"
   ]
  },
  {
   "cell_type": "code",
   "execution_count": 105,
   "metadata": {},
   "outputs": [
    {
     "name": "stdout",
     "output_type": "stream",
     "text": [
      " 3\n",
      "x \n",
      "──\n",
      "3 \n"
     ]
    }
   ],
   "source": [
    "pprint(Integral(fd,x).doit())"
   ]
  },
  {
   "cell_type": "code",
   "execution_count": 106,
   "metadata": {},
   "outputs": [
    {
     "name": "stdout",
     "output_type": "stream",
     "text": [
      "2           \n",
      "⌠ ⌠         \n",
      "⎮ ⎮  2      \n",
      "⎮ ⎮ x  dx dx\n",
      "⌡ ⌡         \n",
      "0           \n"
     ]
    }
   ],
   "source": [
    "pprint(Integral(fd,x,(x,0,2)))"
   ]
  },
  {
   "cell_type": "code",
   "execution_count": 107,
   "metadata": {},
   "outputs": [
    {
     "name": "stdout",
     "output_type": "stream",
     "text": [
      "4/3\n"
     ]
    }
   ],
   "source": [
    "pprint(Integral(fd,x,(x,0,2)).doit())"
   ]
  },
  {
   "cell_type": "code",
   "execution_count": 108,
   "metadata": {},
   "outputs": [
    {
     "name": "stdout",
     "output_type": "stream",
     "text": [
      "       2\n",
      " lim  x \n",
      "x─→11⁺  \n"
     ]
    }
   ],
   "source": [
    "pprint(Limit(fd,x,11))"
   ]
  },
  {
   "cell_type": "code",
   "execution_count": null,
   "metadata": {},
   "outputs": [],
   "source": []
  }
 ],
 "metadata": {
  "kernelspec": {
   "display_name": "Python 3",
   "language": "python",
   "name": "python3"
  },
  "language_info": {
   "codemirror_mode": {
    "name": "ipython",
    "version": 3
   },
   "file_extension": ".py",
   "mimetype": "text/x-python",
   "name": "python",
   "nbconvert_exporter": "python",
   "pygments_lexer": "ipython3",
   "version": "3.6.4"
  }
 },
 "nbformat": 4,
 "nbformat_minor": 1
}
